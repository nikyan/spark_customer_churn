{
  "nbformat": 4,
  "nbformat_minor": 0,
  "metadata": {
    "kernelspec": {
      "name": "python3",
      "display_name": "Python 3"
    },
    "colab": {
      "name": "sparkify_pipeline.ipynb",
      "provenance": [],
      "machine_shape": "hm",
      "include_colab_link": true
    }
  },
  "cells": [
    {
      "cell_type": "markdown",
      "metadata": {
        "id": "view-in-github",
        "colab_type": "text"
      },
      "source": [
        "<a href=\"https://colab.research.google.com/github/nikyan/spark_customer_churn/blob/master/sparkify_pipeline.ipynb\" target=\"_parent\"><img src=\"https://colab.research.google.com/assets/colab-badge.svg\" alt=\"Open In Colab\"/></a>"
      ]
    },
    {
      "cell_type": "markdown",
      "metadata": {
        "id": "bpYIRqzlN3gU",
        "colab_type": "text"
      },
      "source": [
        "# Sparkify Project Pipeline\n",
        "\n",
        "This Jupyter Notebook contains the execution script for loading the full Sparkify dataset (12GB), extracting features, running machine learning models to predict 'churn' and finally tuning the model to achieve best results.\n",
        "\n",
        "The Notebook is run on AWS EMR Spark Cluster."
      ]
    },
    {
      "cell_type": "markdown",
      "metadata": {
        "id": "jgNGU5BMN3ga",
        "colab_type": "text"
      },
      "source": [
        "## Import Dependencies & Libraries "
      ]
    },
    {
      "cell_type": "code",
      "metadata": {
        "id": "AN7-7G9NOMRa",
        "colab_type": "code",
        "outputId": "6a79a686-ac06-43c4-dacb-d55ea228f2a9",
        "colab": {
          "base_uri": "https://localhost:8080/",
          "height": 35
        }
      },
      "source": [
        "from google.colab import drive\n",
        "drive.mount('/content/drive')"
      ],
      "execution_count": 3,
      "outputs": [
        {
          "output_type": "stream",
          "text": [
            "Drive already mounted at /content/drive; to attempt to forcibly remount, call drive.mount(\"/content/drive\", force_remount=True).\n"
          ],
          "name": "stdout"
        }
      ]
    },
    {
      "cell_type": "code",
      "metadata": {
        "id": "ys_O7pssN3gb",
        "colab_type": "code",
        "colab": {}
      },
      "source": [
        "!apt-get install openjdk-8-jdk-headless -qq > /dev/null\n",
        "!wget -q http://apache.mirrors.hoobly.com/spark/spark-2.4.5/spark-2.4.5-bin-hadoop2.7.tgz\n",
        "!tar xf spark-2.4.5-bin-hadoop2.7.tgz\n",
        "!pip install -q findspark"
      ],
      "execution_count": 0,
      "outputs": []
    },
    {
      "cell_type": "code",
      "metadata": {
        "id": "QCBR5HG9OfxG",
        "colab_type": "code",
        "colab": {}
      },
      "source": [
        "import os\n",
        "os.environ[\"JAVA_HOME\"] = \"/usr/lib/jvm/java-8-openjdk-amd64\"\n",
        "os.environ[\"SPARK_HOME\"] = \"/content/spark-2.4.5-bin-hadoop2.7\""
      ],
      "execution_count": 0,
      "outputs": []
    },
    {
      "cell_type": "code",
      "metadata": {
        "id": "kZ3kP6MZN3gi",
        "colab_type": "code",
        "colab": {}
      },
      "source": [
        "import findspark\n",
        "findspark.init()\n",
        "from pyspark.sql import SparkSession\n",
        "spark = SparkSession.builder.master(\"local[*]\").getOrCreate()"
      ],
      "execution_count": 0,
      "outputs": []
    },
    {
      "cell_type": "code",
      "metadata": {
        "id": "8F57y1DaN3gu",
        "colab_type": "code",
        "colab": {}
      },
      "source": [
        "# import libraries\n",
        "from pyspark.sql import SparkSession\n",
        "from pyspark.sql.functions import *\n",
        "from pyspark.sql.functions import udf, col, concat, count, lit, isnan, when, desc, split, trim\n",
        "import pyspark.sql.functions as F\n",
        "from pyspark.sql.types import *\n",
        "import datetime\n",
        "\n",
        "import numpy as np\n",
        "import pandas as pd\n",
        "\n",
        "import matplotlib.pyplot as plt\n",
        "\n",
        "from pyspark.ml import Pipeline\n",
        "from pyspark.ml.classification import LogisticRegression, GBTClassifier, RandomForestClassifier, DecisionTreeClassifier\n",
        "from pyspark.ml.evaluation import MulticlassClassificationEvaluator, BinaryClassificationEvaluator\n",
        "from pyspark.ml.feature import StringIndexer, OneHotEncoderEstimator, VectorAssembler\n",
        "from pyspark.ml.feature import Normalizer, MinMaxScaler, StandardScaler\n",
        "from pyspark.ml.regression import LinearRegression\n",
        "from pyspark.ml.tuning import CrossValidator, ParamGridBuilder\n",
        "\n",
        "#%matplotlib inline"
      ],
      "execution_count": 0,
      "outputs": []
    },
    {
      "cell_type": "markdown",
      "metadata": {
        "id": "dedTlObYN3hC",
        "colab_type": "text"
      },
      "source": [
        "## Feature Extraction\n",
        "\n",
        "Following are all the functions that are used to extract features from the dataset and make a dataframe ready for machine learning algorithms."
      ]
    },
    {
      "cell_type": "code",
      "metadata": {
        "id": "lkbM_iBUN3hD",
        "colab_type": "code",
        "colab": {}
      },
      "source": [
        "def load_data(filename):\n",
        "    \n",
        "    '''\n",
        "    Funtion to load data and remove null, empty strings.\n",
        "    INPUT\n",
        "    filename = name of file as well the path\n",
        "    OUTPUT\n",
        "    df - a spark dataframe with no null rows for primary key\n",
        "    '''\n",
        "    \n",
        "    df = spark.read.json(filename)\n",
        "    # remove empty string from userId\n",
        "    df = df.filter(df.userId != \"\")\n",
        "    print(\"Count of rows in dataframe: {}\".format(df.count()))\n",
        "          \n",
        "    return df"
      ],
      "execution_count": 0,
      "outputs": []
    },
    {
      "cell_type": "code",
      "metadata": {
        "id": "EoblwQ08N3hK",
        "colab_type": "code",
        "colab": {}
      },
      "source": [
        "def add_date_columns(df):\n",
        "    '''\n",
        "    Funtion to add date/time related columns to the dataframe.\n",
        "    INPUT - a spark dataframe\n",
        "    OUPUT - a spark dataframe with calculated fields: hour, month, year, day\n",
        "    '''\n",
        "    # create a function to get hour, month, year, day from timestamp\n",
        "    get_hour = udf(lambda x: datetime.datetime.fromtimestamp(x / 1000.0).hour)\n",
        "    get_month = udf(lambda x: datetime.datetime.fromtimestamp(x / 1000.0).month)\n",
        "    get_year = udf(lambda x: datetime.datetime.fromtimestamp(x / 1000.0).year)\n",
        "    get_day = udf(lambda x: datetime.datetime.fromtimestamp(x / 1000.0).day)\n",
        "    \n",
        "    # add hour, month, year, day columns to the dataframe\n",
        "    df = df.withColumn(\"hour\", get_hour(df.ts))\n",
        "    df = df.withColumn(\"month\", get_month(df.ts))\n",
        "    df = df.withColumn(\"year\", get_year(df.ts))\n",
        "    df = df.withColumn(\"day\", get_day(df.ts))\n",
        "    \n",
        "    \n",
        "    return df"
      ],
      "execution_count": 0,
      "outputs": []
    },
    {
      "cell_type": "code",
      "metadata": {
        "id": "jRXQBFV5N3hQ",
        "colab_type": "code",
        "colab": {}
      },
      "source": [
        "def get_flag_churn(df):\n",
        "    '''\n",
        "    Funtion to add churn flag that identifies whether a user has churned.\n",
        "    INPUT - a spark dataframe\n",
        "    OUPUT - a spark dataframe with userId of each user, churn flag and gender\n",
        "    '''\n",
        "    \n",
        "    # function to flag 'cancellation confirmation' event\n",
        "    flag_cancel_event = udf(lambda x: 1 if x == \"Cancellation Confirmation\" else 0, IntegerType())\n",
        "    df = df.withColumn(\"churn\", flag_cancel_event(\"page\"))\n",
        "    user_churn = df.groupBy(\"userId\").agg({\"churn\":\"max\", \"gender\":\"max\"})\\\n",
        "                           .withColumnRenamed(\"max(churn)\", \"label\")\\\n",
        "                           .withColumnRenamed(\"max(gender)\", \"gender\")\n",
        "    \n",
        "    #print(\"Count of rows: {}\".format(user_churn.count()))\n",
        "    return user_churn"
      ],
      "execution_count": 0,
      "outputs": []
    },
    {
      "cell_type": "code",
      "metadata": {
        "id": "nuQ667asN3hV",
        "colab_type": "code",
        "colab": {}
      },
      "source": [
        "def get_latest_level(df):\n",
        "    '''\n",
        "    Funtion to find the latest level of each user.\n",
        "    INPUT - a spark dataframe\n",
        "    OUPUT - a spark dataframe with userId of each user and latest level\n",
        "    '''\n",
        "    # use timestamp to identify the most latest record for a user\n",
        "    # sort timestamp in descending order and than drop duplicates to get the last row for each user\n",
        "    latest_level = df.select([\"userId\", \"level\", \"ts\"])\\\n",
        "                        .orderBy(desc(\"ts\"))\\\n",
        "                        .dropDuplicates([\"userId\"])\\\n",
        "                        .select([\"userId\", \"level\"])\n",
        "    #print(\"Count of rows: {}\".format(latest_level.count()))\n",
        "    return latest_level"
      ],
      "execution_count": 0,
      "outputs": []
    },
    {
      "cell_type": "code",
      "metadata": {
        "id": "oNDgrvlZN3ha",
        "colab_type": "code",
        "colab": {}
      },
      "source": [
        "def get_states(df):\n",
        "    '''\n",
        "    Funtion to clean location column and return cleaned state names.\n",
        "    INPUT - a spark dataframe\n",
        "    OUPUT - a spark dataframe with userId of each user and state from location\n",
        "    '''\n",
        "    # get location of each user\n",
        "    state_data = df.groupBy(\"userId\").agg({\"location\":\"max\"}).withColumnRenamed(\"max(location)\", \"state\")\n",
        "    # extract state\n",
        "    state_data = state_data.withColumn(\"state\", split(col(\"state\"),',').getItem(1))\n",
        "    \n",
        "    #print(\"Count of rows: {}\".format(state_data.count()))\n",
        "    \n",
        "    return state_data"
      ],
      "execution_count": 0,
      "outputs": []
    },
    {
      "cell_type": "code",
      "metadata": {
        "id": "JpZaajOrN3hf",
        "colab_type": "code",
        "colab": {}
      },
      "source": [
        "def get_device(df):\n",
        "    '''\n",
        "    Funtion to clean userAgent column and return cleaned device/os names.\n",
        "    INPUT:\n",
        "    df - a spark dataframe\n",
        "    OUPUT:\n",
        "    device_data - a spark dataframe with userId of each user and device/os name\n",
        "    '''\n",
        "      \n",
        "    device_data = df.groupBy(\"userId\").agg({\"userAgent\":\"max\"}).withColumnRenamed(\"max(userAgent)\", \"device\")\n",
        "    device_data = device_data.withColumn(\"device\", regexp_extract(col(\"device\"), r'\\((.*?)\\)', 1));\n",
        "    \n",
        "    device_data = device_data.withColumn(\"device\", split(col(\"device\"),';').getItem(0))\n",
        "    device_data = device_data.withColumn(\"device\", split(col(\"device\"),'NT').getItem(0))\n",
        "    \n",
        "    device_data = device_data.withColumn(\"device\", trim(device_data.device))\n",
        "    \n",
        "    #print(\"Count of rows: {}\".format(device_data.count()))\n",
        "    \n",
        "    return device_data"
      ],
      "execution_count": 0,
      "outputs": []
    },
    {
      "cell_type": "code",
      "metadata": {
        "id": "nR9GUwoXN3hn",
        "colab_type": "code",
        "colab": {}
      },
      "source": [
        "def get_days_since_reg(df):\n",
        "    '''\n",
        "    Funtion to get the number of days since registration\n",
        "    INPUT:\n",
        "    df - a spark dataframe\n",
        "    OUPUT:\n",
        "    days_since_reg - a spark dataframe with userId of each user and days since registration\n",
        "    '''\n",
        "    \n",
        "    \n",
        "    get_subtract_ts = udf(lambda x, y: datetime.datetime.fromtimestamp((y - x) / 1000.0).day, IntegerType())\n",
        "\n",
        "    days_since_reg = df.groupBy(\"userId\").agg({\"registration\":\"max\", \"ts\":\"max\"})\\\n",
        "                                         .withColumnRenamed(\"max(registration)\", \"max_reg\")\\\n",
        "                                         .withColumnRenamed(\"max(ts)\", \"max_ts\")\n",
        "    \n",
        "    days_since_reg = days_since_reg.withColumn(\"days_since_reg\", when(col('max_reg') != 0, get_subtract_ts(col('max_reg'), col('max_ts'))).otherwise(0))\n",
        "    \n",
        "    days_since_reg = days_since_reg.drop(\"max_reg\")\n",
        "    days_since_reg = days_since_reg.drop(\"max_ts\")\n",
        "    \n",
        "    #print(\"Count of rows: {}\".format(days_since_reg.count()))\n",
        "    \n",
        "    return days_since_reg"
      ],
      "execution_count": 0,
      "outputs": []
    },
    {
      "cell_type": "code",
      "metadata": {
        "id": "hZR26o4uN3hv",
        "colab_type": "code",
        "colab": {}
      },
      "source": [
        "def get_avg_count_session(df):\n",
        "    '''\n",
        "    Funtion to get the average number of sessions per month for a user\n",
        "    INPUT:\n",
        "    df - a spark dataframe\n",
        "    OUPUT:\n",
        "    avg_count_session - a spark dataframe with userId of each user and average monthly count of sessions\n",
        "    '''\n",
        "    mon_count_session = df.groupBy(\"userId\", \"month\").agg(countDistinct(\"sessionId\"))\\\n",
        "                          .groupBy(\"userId\").agg(avg(\"count(DISTINCT sessionId)\"))\\\n",
        "                          .withColumnRenamed(\"avg(count(DISTINCT sessionId))\", \"avg_mon_session_count\")\n",
        "    \n",
        "    #print(\"Count of rows: {}\".format(mon_count_session.count()))\n",
        "    \n",
        "    return mon_count_session"
      ],
      "execution_count": 0,
      "outputs": []
    },
    {
      "cell_type": "code",
      "metadata": {
        "id": "ZSJsQKYWN3h1",
        "colab_type": "code",
        "colab": {}
      },
      "source": [
        "def get_avg_duration_session(df):\n",
        "    '''\n",
        "    Funtion to get the average number of sessions per month for a user\n",
        "    INPUT:\n",
        "    df - a spark dataframe\n",
        "    OUPUT:\n",
        "    avg_duration_session - a spark dataframe with userId of each user and average monthly count of sessions\n",
        "    '''\n",
        "    \n",
        "    mon_sess_duration = df.groupBy(\"userId\", \"month\").agg(max(\"ts\"), min(\"ts\"))\\\n",
        "                          .withColumn(\"duration\", (col(\"max(ts)\") - col(\"min(ts)\"))/1000)\\\n",
        "                          .groupBy(\"userId\").agg(avg(\"duration\"))\\\n",
        "                          .withColumnRenamed(\"avg(duration)\", \"avg_mon_sess_duration\")\n",
        "    \n",
        "    #print(\"Count of rows: {}\".format(mon_sess_duration.count()))\n",
        "    \n",
        "    return mon_sess_duration"
      ],
      "execution_count": 0,
      "outputs": []
    },
    {
      "cell_type": "code",
      "metadata": {
        "id": "wWgDdlXkN3h6",
        "colab_type": "code",
        "colab": {}
      },
      "source": [
        "def get_avg_page_views(df):\n",
        "    '''\n",
        "    Funtion to get the average number of page views per month for a user\n",
        "    INPUT:\n",
        "    df - a spark dataframe\n",
        "    OUPUT:\n",
        "    avg_page_views - a spark dataframe with userId of each user and average monthly page views with each page pivoted\n",
        "    '''\n",
        "    # get avg of page views per month\n",
        "    avg_mon_page_views = df.groupBy(\"userId\", \"page\", \"month\").agg(count(\"page\"))\\\n",
        "                           .groupBy(\"userId\", \"page\").agg(avg(\"count(page)\"))\\\n",
        "                           .withColumnRenamed(\"avg(count(page))\", \"avg_page_count\")\n",
        "    \n",
        "    # clean up page column\n",
        "    avg_mon_page_views = avg_mon_page_views.withColumn(\"page\", trim(avg_mon_page_views.page))\n",
        "    avg_mon_page_views = avg_mon_page_views.withColumn(\"page\", regexp_replace(avg_mon_page_views.page, \" \", \"_\"))\n",
        "    \n",
        "    # add prefix to each page name\n",
        "    add_prefix = udf(lambda x: \"avg_mon_\" + x)\n",
        "    avg_mon_page_views = avg_mon_page_views.withColumn(\"page\", add_prefix(avg_mon_page_views.page))\n",
        "    \n",
        "    # pivot page names to get columns\n",
        "    avg_mon_page_views = avg_mon_page_views.groupBy(\"userId\").pivot(\"page\").max(\"avg_page_count\")\n",
        "    avg_mon_page_views = avg_mon_page_views.fillna(0)\n",
        "    \n",
        "    #print(\"Count of rows: {}\".format(avg_mon_page_views.count()))\n",
        "    \n",
        "    return avg_mon_page_views"
      ],
      "execution_count": 0,
      "outputs": []
    },
    {
      "cell_type": "markdown",
      "metadata": {
        "id": "-hlO25MMN3iA",
        "colab_type": "text"
      },
      "source": [
        "## Modeling"
      ]
    },
    {
      "cell_type": "markdown",
      "metadata": {
        "id": "MiqgeNpkN3iC",
        "colab_type": "text"
      },
      "source": [
        "### Data transformation for ML algorithms"
      ]
    },
    {
      "cell_type": "code",
      "metadata": {
        "id": "wcuZTQI4N3iD",
        "colab_type": "code",
        "colab": {}
      },
      "source": [
        "def transform_data(df, numerical_col, categorical_col):\n",
        "    '''\n",
        "    Funtion to transform categorical fields and create feature vector\n",
        "    INPUT:\n",
        "    df - a spark dataframe\n",
        "    OUPUT:\n",
        "    df - a spark dataframe with transformed data containing feature vector\n",
        "    '''\n",
        "    \n",
        "    # define stringIndexer for converting categorical to numerical variables\n",
        "    # Use OneHotEncoderEstimator for converting categorical variables to onehot encoded vectors\n",
        "    # Apply VectorAssembler to create feature vector\n",
        "    \n",
        "    stages = []\n",
        "    for col in str_cols:\n",
        "        stringIndexer = StringIndexer(inputCol = col, outputCol = col + '_index', handleInvalid = 'keep')\n",
        "        #encoder = OneHotEncoderEstimator(inputCols=[stringIndexer.getOutputCol()], outputCols=[col + \"_classVec\"])\n",
        "        #stages += [stringIndexer, encoder]\n",
        "        stages += [stringIndexer]\n",
        "\n",
        "    assemblerInputs = [c + \"_index\" for c in str_cols] + num_cols\n",
        "    assembler = VectorAssembler(inputCols=assemblerInputs, outputCol=\"features\")\n",
        "    stages += [assembler]\n",
        "    \n",
        "    # # Normalize each Vector\n",
        "    # normalizer = Normalizer(inputCol=\"features\", outputCol=\"normFeatures\", p=1.0)\n",
        "    # stages += [normalizer]\n",
        "\n",
        "    # Rescale feature vector\n",
        "    # scaler = StandardScaler(inputCol=\"features\", outputCol=\"scaledFeatures\",   withStd=True, withMean=False)\n",
        "    scaler = MinMaxScaler(inputCol=\"features\", outputCol=\"scaledFeatures\")\n",
        "    stages += [scaler]\n",
        "    \n",
        "    # use pipeline to transform data\n",
        "    cols = df.columns\n",
        "    pipeline = Pipeline(stages = stages)\n",
        "    pipelineModel = pipeline.fit(df)\n",
        "    df = pipelineModel.transform(df)\n",
        "    \n",
        "    # select new 'feature' column and rest of columns\n",
        "    selectedCols = ['features', 'scaledFeatures'] + cols\n",
        "    df = df.select(selectedCols)\n",
        "    \n",
        "    return df"
      ],
      "execution_count": 0,
      "outputs": []
    },
    {
      "cell_type": "markdown",
      "metadata": {
        "id": "m-P2n2q9N3iJ",
        "colab_type": "text"
      },
      "source": [
        "### Baseline models testing"
      ]
    },
    {
      "cell_type": "code",
      "metadata": {
        "id": "-rO2Vpp6N3iK",
        "colab_type": "code",
        "colab": {}
      },
      "source": [
        "def model_testing(model, train, test):\n",
        "    '''\n",
        "    Funtion to test baseline machine learning algorithms\n",
        "    INPUT:\n",
        "    model - instantiated model object\n",
        "    train - training dataset\n",
        "    test - testing dataset\n",
        "    OUPUT:\n",
        "    score - F1 score to measure performance of the algorithm\n",
        "    '''\n",
        "    \n",
        "    \n",
        "    cl_model = model.fit(train)\n",
        "    predict = cl_model.transform(test)\n",
        "\n",
        "    # f1, weightedPrecision, weightedRecall, accuracy\n",
        "    evaluator = MulticlassClassificationEvaluator(metricName='f1')\n",
        "    score = evaluator.evaluate(predict)\n",
        "\n",
        "    return predict, score"
      ],
      "execution_count": 0,
      "outputs": []
    },
    {
      "cell_type": "markdown",
      "metadata": {
        "id": "DwFAU71WN3iT",
        "colab_type": "text"
      },
      "source": [
        "### Parameter tuning"
      ]
    },
    {
      "cell_type": "code",
      "metadata": {
        "id": "w79EQDBVN3iU",
        "colab_type": "code",
        "colab": {}
      },
      "source": [
        "def model_tuning(train, test, model, paramGrid, numFolds):\n",
        "    '''\n",
        "    Funtion to tune a machine learning algorithm using cross validation\n",
        "    INPUT:\n",
        "    model - instantiated model object\n",
        "    paramGrid - hyper parameters associated with the model used for tuning\n",
        "    numFolds - number of cross validation folds\n",
        "    train - training dataset\n",
        "    test - testi dataset\n",
        "    \n",
        "    OUPUT:\n",
        "    score - F1 score to measure performance of the algorithm\n",
        "    '''\n",
        "    \n",
        "    \n",
        "    evaluator = MulticlassClassificationEvaluator(metricName=\"f1\")\n",
        "\n",
        "    cv = CrossValidator(estimator=gbt, estimatorParamMaps=paramGrid, evaluator=evaluator, numFolds=numFolds)\n",
        "    \n",
        "    # fit and transform\n",
        "    cvmodel = cv.fit(train)\n",
        "    predict = cvmodel.transform(test)\n",
        "    \n",
        "    #.select(\"features\", \"label\", \"prediction\")\n",
        "    \n",
        "    # get the f1 score\n",
        "    score = evaluator.evaluate(predict)\n",
        "    \n",
        "\n",
        "    \n",
        "    bestModel = cvmodel.bestModel\n",
        "    \n",
        "    #model_stages = cvmodel.stages[2]\n",
        "    #print(gbtModel)  # summary only\n",
        "    \n",
        "    return score, predict, bestModel\n",
        "    "
      ],
      "execution_count": 0,
      "outputs": []
    },
    {
      "cell_type": "markdown",
      "metadata": {
        "id": "1xINm7CJN3ia",
        "colab_type": "text"
      },
      "source": [
        "## Execution"
      ]
    },
    {
      "cell_type": "markdown",
      "metadata": {
        "id": "XEa32EC1N3ib",
        "colab_type": "text"
      },
      "source": [
        "### 1. Load dataset"
      ]
    },
    {
      "cell_type": "code",
      "metadata": {
        "id": "_BZZIQxxN3ic",
        "colab_type": "code",
        "outputId": "1b9ec01d-cd6b-4415-df2d-29eb99fe41dc",
        "colab": {
          "base_uri": "https://localhost:8080/",
          "height": 35
        }
      },
      "source": [
        "# link to mini dataset\n",
        "path = \"/content/drive/My Drive/ML data/mini_sparkify_event_data.json\"\n",
        "\n",
        "# link to full dataset\n",
        "# path = \"/content/drive/My Drive/ML data/sparkify_event_data.json\"\n",
        "# load Spark dataframe\n",
        "event_data = load_data(path)"
      ],
      "execution_count": 20,
      "outputs": [
        {
          "output_type": "stream",
          "text": [
            "Count of rows in dataframe: 278154\n"
          ],
          "name": "stdout"
        }
      ]
    },
    {
      "cell_type": "code",
      "metadata": {
        "id": "yvhqthn4N3ih",
        "colab_type": "code",
        "colab": {
          "base_uri": "https://localhost:8080/",
          "height": 55
        },
        "outputId": "4f865c91-2573-43c3-caa9-0352894f6a1e"
      },
      "source": [
        "# check first row of dataframe\n",
        "event_data.head()"
      ],
      "execution_count": 21,
      "outputs": [
        {
          "output_type": "execute_result",
          "data": {
            "text/plain": [
              "Row(artist='Martha Tilston', auth='Logged In', firstName='Colin', gender='M', itemInSession=50, lastName='Freeman', length=277.89016, level='paid', location='Bakersfield, CA', method='PUT', page='NextSong', registration=1538173362000, sessionId=29, song='Rockpools', status=200, ts=1538352117000, userAgent='Mozilla/5.0 (Windows NT 6.1; WOW64; rv:31.0) Gecko/20100101 Firefox/31.0', userId='30')"
            ]
          },
          "metadata": {
            "tags": []
          },
          "execution_count": 21
        }
      ]
    },
    {
      "cell_type": "code",
      "metadata": {
        "id": "dAIKzm9HN3im",
        "colab_type": "code",
        "colab": {
          "base_uri": "https://localhost:8080/",
          "height": 121
        },
        "outputId": "c716aa57-3377-438a-c895-2dc61faf2eea"
      },
      "source": [
        "# check for nans and nulls\n",
        "event_data.select([count(when(isnan(c) | col(c).isNull(), c)).alias(c) for c in event_data.columns]).show()"
      ],
      "execution_count": 22,
      "outputs": [
        {
          "output_type": "stream",
          "text": [
            "+------+----+---------+------+-------------+--------+------+-----+--------+------+----+------------+---------+-----+------+---+---------+------+\n",
            "|artist|auth|firstName|gender|itemInSession|lastName|length|level|location|method|page|registration|sessionId| song|status| ts|userAgent|userId|\n",
            "+------+----+---------+------+-------------+--------+------+-----+--------+------+----+------------+---------+-----+------+---+---------+------+\n",
            "| 50046|   0|        0|     0|            0|       0| 50046|    0|       0|     0|   0|           0|        0|50046|     0|  0|        0|     0|\n",
            "+------+----+---------+------+-------------+--------+------+-----+--------+------+----+------------+---------+-----+------+---+---------+------+\n",
            "\n"
          ],
          "name": "stdout"
        }
      ]
    },
    {
      "cell_type": "code",
      "metadata": {
        "id": "u3ve12M-N3is",
        "colab_type": "code",
        "colab": {
          "base_uri": "https://localhost:8080/",
          "height": 364
        },
        "outputId": "be73f9e9-7499-4b1c-bd72-47cde72e10a6"
      },
      "source": [
        "event_data.printSchema()"
      ],
      "execution_count": 23,
      "outputs": [
        {
          "output_type": "stream",
          "text": [
            "root\n",
            " |-- artist: string (nullable = true)\n",
            " |-- auth: string (nullable = true)\n",
            " |-- firstName: string (nullable = true)\n",
            " |-- gender: string (nullable = true)\n",
            " |-- itemInSession: long (nullable = true)\n",
            " |-- lastName: string (nullable = true)\n",
            " |-- length: double (nullable = true)\n",
            " |-- level: string (nullable = true)\n",
            " |-- location: string (nullable = true)\n",
            " |-- method: string (nullable = true)\n",
            " |-- page: string (nullable = true)\n",
            " |-- registration: long (nullable = true)\n",
            " |-- sessionId: long (nullable = true)\n",
            " |-- song: string (nullable = true)\n",
            " |-- status: long (nullable = true)\n",
            " |-- ts: long (nullable = true)\n",
            " |-- userAgent: string (nullable = true)\n",
            " |-- userId: string (nullable = true)\n",
            "\n"
          ],
          "name": "stdout"
        }
      ]
    },
    {
      "cell_type": "code",
      "metadata": {
        "id": "X-YUT8IqN3ix",
        "colab_type": "code",
        "colab": {
          "base_uri": "https://localhost:8080/",
          "height": 468
        },
        "outputId": "c9f13ad2-a739-48b4-ae69-cd4f2d961ea3"
      },
      "source": [
        "# 'registration' field is used for calculating number of days since registration on the platform.\n",
        "event_data.select(\"registration\").dropDuplicates().sort(\"registration\").show()"
      ],
      "execution_count": 24,
      "outputs": [
        {
          "output_type": "stream",
          "text": [
            "+-------------+\n",
            "| registration|\n",
            "+-------------+\n",
            "|1521380675000|\n",
            "|1526739206000|\n",
            "|1526838391000|\n",
            "|1528403713000|\n",
            "|1528560242000|\n",
            "|1528772084000|\n",
            "|1528780738000|\n",
            "|1529027541000|\n",
            "|1529252604000|\n",
            "|1529643103000|\n",
            "|1529934689000|\n",
            "|1530306321000|\n",
            "|1530333492000|\n",
            "|1530514394000|\n",
            "|1530674962000|\n",
            "|1530763799000|\n",
            "|1530789251000|\n",
            "|1531281160000|\n",
            "|1531350022000|\n",
            "|1531679695000|\n",
            "+-------------+\n",
            "only showing top 20 rows\n",
            "\n"
          ],
          "name": "stdout"
        }
      ]
    },
    {
      "cell_type": "code",
      "metadata": {
        "id": "DeyniuAIN3i2",
        "colab_type": "code",
        "colab": {}
      },
      "source": [
        "# replace null in 'registration' field with 0 since this field is used in calculation.\n",
        "event_data = event_data.fillna(0, subset=['registration'])"
      ],
      "execution_count": 0,
      "outputs": []
    },
    {
      "cell_type": "markdown",
      "metadata": {
        "id": "_4ulixETN3i9",
        "colab_type": "text"
      },
      "source": [
        "### 2. Extract features"
      ]
    },
    {
      "cell_type": "code",
      "metadata": {
        "id": "M4Pf5S40N3i9",
        "colab_type": "code",
        "colab": {
          "base_uri": "https://localhost:8080/",
          "height": 52
        },
        "outputId": "52fcd237-2671-42e1-e887-22154d02e36c"
      },
      "source": [
        "%%time\n",
        "# add date columns\n",
        "event_data = add_date_columns(event_data)\n",
        "#event_data.count()\n",
        "\n",
        "# get churn and gender columns\n",
        "user_label = get_flag_churn(event_data)\n",
        "\n",
        "# get latest level of the user\n",
        "latest_level = get_latest_level(event_data)\n",
        "\n",
        "# extract states from location\n",
        "states = get_states(event_data)\n",
        "\n",
        "# extract device/os from userAgent\n",
        "device = get_device(event_data)\n",
        "\n",
        "# get days since registration\n",
        "days_since_reg = get_days_since_reg(event_data)\n",
        "\n",
        "# get average monthly count of sessions per user\n",
        "avg_count_session = get_avg_count_session(event_data)\n",
        "\n",
        "# get average monthly duration of sessions per user\n",
        "avg_duration_session = get_avg_duration_session(event_data)\n",
        "\n",
        "# get average monthly page views per page per user\n",
        "avg_page_views = get_avg_page_views(event_data)"
      ],
      "execution_count": 26,
      "outputs": [
        {
          "output_type": "stream",
          "text": [
            "CPU times: user 120 ms, sys: 45.2 ms, total: 165 ms\n",
            "Wall time: 9.22 s\n"
          ],
          "name": "stdout"
        }
      ]
    },
    {
      "cell_type": "code",
      "metadata": {
        "id": "4H_vEZn_N3jB",
        "colab_type": "code",
        "outputId": "909c9369-4c55-4c04-8850-3900fa6c21af",
        "colab": {
          "base_uri": "https://localhost:8080/",
          "height": 52
        }
      },
      "source": [
        "%%time\n",
        "# join all extracted tables\n",
        "user_data_all = user_label.join(latest_level, on=\"userId\")\\\n",
        "                          .join(states, on=\"userId\")\\\n",
        "                          .join(device, on=\"userId\")\\\n",
        "                          .join(days_since_reg, on=\"userId\")\\\n",
        "                          .join(avg_count_session, on=\"userId\")\\\n",
        "                          .join(avg_duration_session, on=\"userId\")\\\n",
        "                          .join(avg_page_views, on=\"userId\")"
      ],
      "execution_count": 27,
      "outputs": [
        {
          "output_type": "stream",
          "text": [
            "CPU times: user 9.17 ms, sys: 1.93 ms, total: 11.1 ms\n",
            "Wall time: 222 ms\n"
          ],
          "name": "stdout"
        }
      ]
    },
    {
      "cell_type": "code",
      "metadata": {
        "id": "15yOlFTl_ZeN",
        "colab_type": "code",
        "colab": {}
      },
      "source": [
        "# save parquet file - save data\n",
        "# user_data_all.write.parquet(\"/content/drive/My Drive/ML data/user_data_all_06-01.parquet\")"
      ],
      "execution_count": 0,
      "outputs": []
    },
    {
      "cell_type": "code",
      "metadata": {
        "id": "aSyRk4rwN3jE",
        "colab_type": "code",
        "colab": {
          "base_uri": "https://localhost:8080/",
          "height": 55
        },
        "outputId": "07697dc5-5e96-4773-f331-e8404c39c90c"
      },
      "source": [
        "# check data\n",
        "user_data_all.head()"
      ],
      "execution_count": 28,
      "outputs": [
        {
          "output_type": "execute_result",
          "data": {
            "text/plain": [
              "Row(userId='100010', gender='F', label=0, level='free', state=' CT', device='iPhone', days_since_reg=25, avg_mon_session_count=3.5, avg_mon_sess_duration=1232078.0, avg_mon_About=1.0, avg_mon_Add_Friend=2.0, avg_mon_Add_to_Playlist=3.5, avg_mon_Cancel=0.0, avg_mon_Cancellation_Confirmation=0.0, avg_mon_Downgrade=0.0, avg_mon_Error=0.0, avg_mon_Help=1.0, avg_mon_Home=5.5, avg_mon_Logout=2.5, avg_mon_NextSong=137.5, avg_mon_Roll_Advert=26.0, avg_mon_Save_Settings=0.0, avg_mon_Settings=0.0, avg_mon_Submit_Downgrade=0.0, avg_mon_Submit_Upgrade=0.0, avg_mon_Thumbs_Down=2.5, avg_mon_Thumbs_Up=8.5, avg_mon_Upgrade=1.0)"
            ]
          },
          "metadata": {
            "tags": []
          },
          "execution_count": 28
        }
      ]
    },
    {
      "cell_type": "code",
      "metadata": {
        "id": "m2FRTlR5N3jG",
        "colab_type": "code",
        "colab": {
          "base_uri": "https://localhost:8080/",
          "height": 35
        },
        "outputId": "fd223818-8ae2-437d-d334-f05b160aac85"
      },
      "source": [
        "# check count\n",
        "user_data_all.count()"
      ],
      "execution_count": 29,
      "outputs": [
        {
          "output_type": "execute_result",
          "data": {
            "text/plain": [
              "225"
            ]
          },
          "metadata": {
            "tags": []
          },
          "execution_count": 29
        }
      ]
    },
    {
      "cell_type": "code",
      "metadata": {
        "id": "b37opE-8RkBO",
        "colab_type": "code",
        "colab": {
          "base_uri": "https://localhost:8080/",
          "height": 35
        },
        "outputId": "02e2ebdf-58c6-4f66-d485-2cffc1efd0a9"
      },
      "source": [
        "# check for unique userId in the dataset\n",
        "event_data.select(\"userId\").dropDuplicates().count()"
      ],
      "execution_count": 30,
      "outputs": [
        {
          "output_type": "execute_result",
          "data": {
            "text/plain": [
              "225"
            ]
          },
          "metadata": {
            "tags": []
          },
          "execution_count": 30
        }
      ]
    },
    {
      "cell_type": "code",
      "metadata": {
        "id": "06AeBmq9N3jJ",
        "colab_type": "code",
        "outputId": "21ce68ec-2826-4f76-b59c-d5a69225bd15",
        "colab": {
          "base_uri": "https://localhost:8080/",
          "height": 537
        }
      },
      "source": [
        "# check schema for all columns\n",
        "user_data_all.printSchema()"
      ],
      "execution_count": 31,
      "outputs": [
        {
          "output_type": "stream",
          "text": [
            "root\n",
            " |-- userId: string (nullable = true)\n",
            " |-- gender: string (nullable = true)\n",
            " |-- label: integer (nullable = true)\n",
            " |-- level: string (nullable = true)\n",
            " |-- state: string (nullable = true)\n",
            " |-- device: string (nullable = true)\n",
            " |-- days_since_reg: integer (nullable = true)\n",
            " |-- avg_mon_session_count: double (nullable = true)\n",
            " |-- avg_mon_sess_duration: double (nullable = true)\n",
            " |-- avg_mon_About: double (nullable = false)\n",
            " |-- avg_mon_Add_Friend: double (nullable = false)\n",
            " |-- avg_mon_Add_to_Playlist: double (nullable = false)\n",
            " |-- avg_mon_Cancel: double (nullable = false)\n",
            " |-- avg_mon_Cancellation_Confirmation: double (nullable = false)\n",
            " |-- avg_mon_Downgrade: double (nullable = false)\n",
            " |-- avg_mon_Error: double (nullable = false)\n",
            " |-- avg_mon_Help: double (nullable = false)\n",
            " |-- avg_mon_Home: double (nullable = false)\n",
            " |-- avg_mon_Logout: double (nullable = false)\n",
            " |-- avg_mon_NextSong: double (nullable = false)\n",
            " |-- avg_mon_Roll_Advert: double (nullable = false)\n",
            " |-- avg_mon_Save_Settings: double (nullable = false)\n",
            " |-- avg_mon_Settings: double (nullable = false)\n",
            " |-- avg_mon_Submit_Downgrade: double (nullable = false)\n",
            " |-- avg_mon_Submit_Upgrade: double (nullable = false)\n",
            " |-- avg_mon_Thumbs_Down: double (nullable = false)\n",
            " |-- avg_mon_Thumbs_Up: double (nullable = false)\n",
            " |-- avg_mon_Upgrade: double (nullable = false)\n",
            "\n"
          ],
          "name": "stdout"
        }
      ]
    },
    {
      "cell_type": "code",
      "metadata": {
        "id": "3rpIqOT5qFKh",
        "colab_type": "code",
        "colab": {
          "base_uri": "https://localhost:8080/",
          "height": 141
        },
        "outputId": "9bb5870b-5363-4d89-ec7b-27eac90696ec"
      },
      "source": [
        "# check for nans and nulls\n",
        "user_data_all.select([count(when(isnan(c) | col(c).isNull(), c)).alias(c) for c in user_data_all.columns]).show()"
      ],
      "execution_count": 32,
      "outputs": [
        {
          "output_type": "stream",
          "text": [
            "+------+------+-----+-----+-----+------+--------------+---------------------+---------------------+-------------+------------------+-----------------------+--------------+---------------------------------+-----------------+-------------+------------+------------+--------------+----------------+-------------------+---------------------+----------------+------------------------+----------------------+-------------------+-----------------+---------------+\n",
            "|userId|gender|label|level|state|device|days_since_reg|avg_mon_session_count|avg_mon_sess_duration|avg_mon_About|avg_mon_Add_Friend|avg_mon_Add_to_Playlist|avg_mon_Cancel|avg_mon_Cancellation_Confirmation|avg_mon_Downgrade|avg_mon_Error|avg_mon_Help|avg_mon_Home|avg_mon_Logout|avg_mon_NextSong|avg_mon_Roll_Advert|avg_mon_Save_Settings|avg_mon_Settings|avg_mon_Submit_Downgrade|avg_mon_Submit_Upgrade|avg_mon_Thumbs_Down|avg_mon_Thumbs_Up|avg_mon_Upgrade|\n",
            "+------+------+-----+-----+-----+------+--------------+---------------------+---------------------+-------------+------------------+-----------------------+--------------+---------------------------------+-----------------+-------------+------------+------------+--------------+----------------+-------------------+---------------------+----------------+------------------------+----------------------+-------------------+-----------------+---------------+\n",
            "|     0|     0|    0|    0|    0|     0|             0|                    0|                    0|            0|                 0|                      0|             0|                                0|                0|            0|           0|           0|             0|               0|                  0|                    0|               0|                       0|                     0|                  0|                0|              0|\n",
            "+------+------+-----+-----+-----+------+--------------+---------------------+---------------------+-------------+------------------+-----------------------+--------------+---------------------------------+-----------------+-------------+------------+------------+--------------+----------------+-------------------+---------------------+----------------+------------------------+----------------------+-------------------+-----------------+---------------+\n",
            "\n"
          ],
          "name": "stdout"
        }
      ]
    },
    {
      "cell_type": "markdown",
      "metadata": {
        "id": "RI2dSXg5N3jN",
        "colab_type": "text"
      },
      "source": [
        "### 3. Data Prep before ML"
      ]
    },
    {
      "cell_type": "markdown",
      "metadata": {
        "id": "cpx8-WTJ3Xx_",
        "colab_type": "text"
      },
      "source": [
        "Check for imbalance in 'label' class."
      ]
    },
    {
      "cell_type": "code",
      "metadata": {
        "id": "lciCoP5cN3ji",
        "colab_type": "code",
        "outputId": "6d5e3595-0ac2-4514-997e-10c456076ded",
        "colab": {
          "base_uri": "https://localhost:8080/",
          "height": 35
        }
      },
      "source": [
        "major_df = user_data_all.filter(col(\"label\") == 0)\n",
        "minor_df = user_data_all.filter(col(\"label\") == 1)\n",
        "ratio = int(major_df.count()/minor_df.count())\n",
        "print(\"ratio: {}\".format(ratio))"
      ],
      "execution_count": 33,
      "outputs": [
        {
          "output_type": "stream",
          "text": [
            "ratio: 3\n"
          ],
          "name": "stdout"
        }
      ]
    },
    {
      "cell_type": "markdown",
      "metadata": {
        "id": "zbSrz-yC3ega",
        "colab_type": "text"
      },
      "source": [
        "The data is heavily skewed towards label == 0 i.e. there are way more active users than churned users. Because the prediction classs is imbalance, the ML models will be heavily skewed towards predicting label 0. In order to circumvent this situation, I will create 'weights' column to provide more weight to the minority class. "
      ]
    },
    {
      "cell_type": "code",
      "metadata": {
        "id": "NGkpHrl34G8e",
        "colab_type": "code",
        "colab": {}
      },
      "source": [
        "# add new column weights\n",
        "# use user defined ratio field to provide appropriate weights to majority and minority class\n",
        "ratio = 0.9\n",
        "user_data_all = user_data_all.withColumn(\"weights\", when(col('label') == 1, ratio).otherwise(1*(1-ratio)))"
      ],
      "execution_count": 0,
      "outputs": []
    },
    {
      "cell_type": "code",
      "metadata": {
        "id": "otzUyo2w5Ng2",
        "colab_type": "code",
        "colab": {
          "base_uri": "https://localhost:8080/",
          "height": 55
        },
        "outputId": "3bc1ccaa-f076-480d-cabf-f1952275573a"
      },
      "source": [
        "user_data_all.head()"
      ],
      "execution_count": 35,
      "outputs": [
        {
          "output_type": "execute_result",
          "data": {
            "text/plain": [
              "Row(userId='100010', gender='F', label=0, level='free', state=' CT', device='iPhone', days_since_reg=25, avg_mon_session_count=3.5, avg_mon_sess_duration=1232078.0, avg_mon_About=1.0, avg_mon_Add_Friend=2.0, avg_mon_Add_to_Playlist=3.5, avg_mon_Cancel=0.0, avg_mon_Cancellation_Confirmation=0.0, avg_mon_Downgrade=0.0, avg_mon_Error=0.0, avg_mon_Help=1.0, avg_mon_Home=5.5, avg_mon_Logout=2.5, avg_mon_NextSong=137.5, avg_mon_Roll_Advert=26.0, avg_mon_Save_Settings=0.0, avg_mon_Settings=0.0, avg_mon_Submit_Downgrade=0.0, avg_mon_Submit_Upgrade=0.0, avg_mon_Thumbs_Down=2.5, avg_mon_Thumbs_Up=8.5, avg_mon_Upgrade=1.0, weights=0.09999999999999998)"
            ]
          },
          "metadata": {
            "tags": []
          },
          "execution_count": 35
        }
      ]
    },
    {
      "cell_type": "code",
      "metadata": {
        "id": "q5ANkpZiN3jN",
        "colab_type": "code",
        "colab": {}
      },
      "source": [
        "# get list of numerical and categorical columns\n",
        "num_cols = [item[0] for item in user_data_all.dtypes if not item[1].startswith('string')]\n",
        "str_cols = [item[0] for item in user_data_all.dtypes if item[1].startswith('string')]\n",
        "\n",
        "# drop 'label' or 'userId' from the list since this is the response variable\n",
        "num_cols.remove('label')\n",
        "str_cols.remove('userId')"
      ],
      "execution_count": 0,
      "outputs": []
    },
    {
      "cell_type": "code",
      "metadata": {
        "id": "BIO-qlg_N3jQ",
        "colab_type": "code",
        "outputId": "b38041d8-1b47-4a7c-cae2-d78502a3f58d",
        "colab": {
          "base_uri": "https://localhost:8080/",
          "height": 416
        }
      },
      "source": [
        "num_cols"
      ],
      "execution_count": 37,
      "outputs": [
        {
          "output_type": "execute_result",
          "data": {
            "text/plain": [
              "['days_since_reg',\n",
              " 'avg_mon_session_count',\n",
              " 'avg_mon_sess_duration',\n",
              " 'avg_mon_About',\n",
              " 'avg_mon_Add_Friend',\n",
              " 'avg_mon_Add_to_Playlist',\n",
              " 'avg_mon_Cancel',\n",
              " 'avg_mon_Cancellation_Confirmation',\n",
              " 'avg_mon_Downgrade',\n",
              " 'avg_mon_Error',\n",
              " 'avg_mon_Help',\n",
              " 'avg_mon_Home',\n",
              " 'avg_mon_Logout',\n",
              " 'avg_mon_NextSong',\n",
              " 'avg_mon_Roll_Advert',\n",
              " 'avg_mon_Save_Settings',\n",
              " 'avg_mon_Settings',\n",
              " 'avg_mon_Submit_Downgrade',\n",
              " 'avg_mon_Submit_Upgrade',\n",
              " 'avg_mon_Thumbs_Down',\n",
              " 'avg_mon_Thumbs_Up',\n",
              " 'avg_mon_Upgrade',\n",
              " 'weights']"
            ]
          },
          "metadata": {
            "tags": []
          },
          "execution_count": 37
        }
      ]
    },
    {
      "cell_type": "code",
      "metadata": {
        "id": "HISnjwCFN3jS",
        "colab_type": "code",
        "outputId": "f4aeee82-a3cb-49ac-dc79-6b3307449eea",
        "colab": {
          "base_uri": "https://localhost:8080/",
          "height": 35
        }
      },
      "source": [
        "str_cols"
      ],
      "execution_count": 38,
      "outputs": [
        {
          "output_type": "execute_result",
          "data": {
            "text/plain": [
              "['gender', 'level', 'state', 'device']"
            ]
          },
          "metadata": {
            "tags": []
          },
          "execution_count": 38
        }
      ]
    },
    {
      "cell_type": "code",
      "metadata": {
        "id": "X13IsO7bTimG",
        "colab_type": "code",
        "colab": {
          "base_uri": "https://localhost:8080/",
          "height": 245
        },
        "outputId": "2f23cbd5-e444-4705-e777-64f170d5e209"
      },
      "source": [
        "stages = []\n",
        "for col in str_cols:\n",
        "  stringIndexer = StringIndexer(inputCol = col, outputCol = col + '_index', handleInvalid = 'keep')\n",
        "  print(stringIndexer)\n",
        "  encoder = OneHotEncoderEstimator(inputCols=[stringIndexer.getOutputCol()], outputCols=[col + \"_classVec\"])\n",
        "  print(encoder)\n",
        "  stages += [stringIndexer, encoder]\n",
        "  print(stages)"
      ],
      "execution_count": 39,
      "outputs": [
        {
          "output_type": "stream",
          "text": [
            "StringIndexer_7e6112d29ea8\n",
            "OneHotEncoderEstimator_d75b98f05302\n",
            "[StringIndexer_7e6112d29ea8, OneHotEncoderEstimator_d75b98f05302]\n",
            "StringIndexer_86e144f22aa3\n",
            "OneHotEncoderEstimator_f8a194e34764\n",
            "[StringIndexer_7e6112d29ea8, OneHotEncoderEstimator_d75b98f05302, StringIndexer_86e144f22aa3, OneHotEncoderEstimator_f8a194e34764]\n",
            "StringIndexer_cbc591a810ef\n",
            "OneHotEncoderEstimator_cff2481fab9d\n",
            "[StringIndexer_7e6112d29ea8, OneHotEncoderEstimator_d75b98f05302, StringIndexer_86e144f22aa3, OneHotEncoderEstimator_f8a194e34764, StringIndexer_cbc591a810ef, OneHotEncoderEstimator_cff2481fab9d]\n",
            "StringIndexer_01f5f85dca20\n",
            "OneHotEncoderEstimator_dd9d63b08d45\n",
            "[StringIndexer_7e6112d29ea8, OneHotEncoderEstimator_d75b98f05302, StringIndexer_86e144f22aa3, OneHotEncoderEstimator_f8a194e34764, StringIndexer_cbc591a810ef, OneHotEncoderEstimator_cff2481fab9d, StringIndexer_01f5f85dca20, OneHotEncoderEstimator_dd9d63b08d45]\n"
          ],
          "name": "stdout"
        }
      ]
    },
    {
      "cell_type": "code",
      "metadata": {
        "id": "HjySp8rSTr0o",
        "colab_type": "code",
        "colab": {}
      },
      "source": [
        "assemblerInputs = [c + \"_classVec\" for c in str_cols] + num_cols\n",
        "assembler = VectorAssembler(inputCols=assemblerInputs, outputCol=\"features\")\n",
        "stages += [assembler]"
      ],
      "execution_count": 0,
      "outputs": []
    },
    {
      "cell_type": "markdown",
      "metadata": {
        "id": "-Rx-SMHON3jU",
        "colab_type": "text"
      },
      "source": [
        "### 4. Transform data using Pipelines"
      ]
    },
    {
      "cell_type": "code",
      "metadata": {
        "id": "tvRH-Q7ADo7w",
        "colab_type": "code",
        "colab": {}
      },
      "source": [
        "#user_data_all = user_data_all.drop('features', 'scaledFeatures')"
      ],
      "execution_count": 0,
      "outputs": []
    },
    {
      "cell_type": "code",
      "metadata": {
        "id": "VB2hMNm7N3jU",
        "colab_type": "code",
        "colab": {}
      },
      "source": [
        "user_data_all = transform_data(user_data_all, num_cols, str_cols)"
      ],
      "execution_count": 0,
      "outputs": []
    },
    {
      "cell_type": "code",
      "metadata": {
        "id": "clxC-NvGN3jW",
        "colab_type": "code",
        "outputId": "8201e138-d8d1-43cc-d3de-3c2730fe0365",
        "colab": {
          "base_uri": "https://localhost:8080/",
          "height": 589
        }
      },
      "source": [
        "# check schema for all columns\n",
        "user_data_all.printSchema()"
      ],
      "execution_count": 42,
      "outputs": [
        {
          "output_type": "stream",
          "text": [
            "root\n",
            " |-- features: vector (nullable = true)\n",
            " |-- scaledFeatures: vector (nullable = true)\n",
            " |-- userId: string (nullable = true)\n",
            " |-- gender: string (nullable = true)\n",
            " |-- label: integer (nullable = true)\n",
            " |-- level: string (nullable = true)\n",
            " |-- state: string (nullable = true)\n",
            " |-- device: string (nullable = true)\n",
            " |-- days_since_reg: integer (nullable = true)\n",
            " |-- avg_mon_session_count: double (nullable = true)\n",
            " |-- avg_mon_sess_duration: double (nullable = true)\n",
            " |-- avg_mon_About: double (nullable = false)\n",
            " |-- avg_mon_Add_Friend: double (nullable = false)\n",
            " |-- avg_mon_Add_to_Playlist: double (nullable = false)\n",
            " |-- avg_mon_Cancel: double (nullable = false)\n",
            " |-- avg_mon_Cancellation_Confirmation: double (nullable = false)\n",
            " |-- avg_mon_Downgrade: double (nullable = false)\n",
            " |-- avg_mon_Error: double (nullable = false)\n",
            " |-- avg_mon_Help: double (nullable = false)\n",
            " |-- avg_mon_Home: double (nullable = false)\n",
            " |-- avg_mon_Logout: double (nullable = false)\n",
            " |-- avg_mon_NextSong: double (nullable = false)\n",
            " |-- avg_mon_Roll_Advert: double (nullable = false)\n",
            " |-- avg_mon_Save_Settings: double (nullable = false)\n",
            " |-- avg_mon_Settings: double (nullable = false)\n",
            " |-- avg_mon_Submit_Downgrade: double (nullable = false)\n",
            " |-- avg_mon_Submit_Upgrade: double (nullable = false)\n",
            " |-- avg_mon_Thumbs_Down: double (nullable = false)\n",
            " |-- avg_mon_Thumbs_Up: double (nullable = false)\n",
            " |-- avg_mon_Upgrade: double (nullable = false)\n",
            " |-- weights: double (nullable = false)\n",
            "\n"
          ],
          "name": "stdout"
        }
      ]
    },
    {
      "cell_type": "code",
      "metadata": {
        "id": "N-Xpmn0laFMh",
        "colab_type": "code",
        "outputId": "ffb8cea9-b8bb-4b6d-bd31-e749267b7b70",
        "colab": {
          "base_uri": "https://localhost:8080/",
          "height": 55
        }
      },
      "source": [
        "user_data_all.head()"
      ],
      "execution_count": 43,
      "outputs": [
        {
          "output_type": "execute_result",
          "data": {
            "text/plain": [
              "Row(features=DenseVector([1.0, 1.0, 4.0, 2.0, 25.0, 3.5, 1232078.0, 1.0, 2.0, 3.5, 0.0, 0.0, 0.0, 0.0, 1.0, 5.5, 2.5, 137.5, 26.0, 0.0, 0.0, 0.0, 0.0, 2.5, 8.5, 1.0, 0.1]), scaledFeatures=DenseVector([1.0, 1.0, 0.0702, 0.4, 0.8, 0.0472, 0.4696, 0.08, 0.028, 0.0292, 0.0, 0.0, 0.0, 0.0, 0.0435, 0.031, 0.0403, 0.0336, 0.4062, 0.0, 0.0, 0.0, 0.0, 0.0667, 0.0389, 0.1333, 0.0]), userId='100010', gender='F', label=0, level='free', state=' CT', device='iPhone', days_since_reg=25, avg_mon_session_count=3.5, avg_mon_sess_duration=1232078.0, avg_mon_About=1.0, avg_mon_Add_Friend=2.0, avg_mon_Add_to_Playlist=3.5, avg_mon_Cancel=0.0, avg_mon_Cancellation_Confirmation=0.0, avg_mon_Downgrade=0.0, avg_mon_Error=0.0, avg_mon_Help=1.0, avg_mon_Home=5.5, avg_mon_Logout=2.5, avg_mon_NextSong=137.5, avg_mon_Roll_Advert=26.0, avg_mon_Save_Settings=0.0, avg_mon_Settings=0.0, avg_mon_Submit_Downgrade=0.0, avg_mon_Submit_Upgrade=0.0, avg_mon_Thumbs_Down=2.5, avg_mon_Thumbs_Up=8.5, avg_mon_Upgrade=1.0, weights=0.09999999999999998)"
            ]
          },
          "metadata": {
            "tags": []
          },
          "execution_count": 43
        }
      ]
    },
    {
      "cell_type": "code",
      "metadata": {
        "id": "7Or9X-jQN3jZ",
        "colab_type": "code",
        "colab": {}
      },
      "source": [
        "# save parquet file - save data\n",
        "# user_data_all.write.parquet(\"/content/drive/My Drive/ML data/user_data_all_06-01_2.parquet\")"
      ],
      "execution_count": 0,
      "outputs": []
    },
    {
      "cell_type": "code",
      "metadata": {
        "id": "JDHK-hfzN3jd",
        "colab_type": "code",
        "colab": {}
      },
      "source": [
        "# # # using SQLContext to read parquet file\n",
        "# from pyspark.sql import SQLContext\n",
        "# sqlContext = SQLContext(sc)\n",
        "\n",
        "# # # to read parquet file\n",
        "# user_data_all = sqlContext.read.parquet(\"/user_data_all_05-30.parquet\")"
      ],
      "execution_count": 0,
      "outputs": []
    },
    {
      "cell_type": "markdown",
      "metadata": {
        "id": "Ib9BLycBN3jo",
        "colab_type": "text"
      },
      "source": [
        "### 5. Split data into training and testing datasets"
      ]
    },
    {
      "cell_type": "code",
      "metadata": {
        "id": "dGeVSaw5N3jo",
        "colab_type": "code",
        "outputId": "cc1f2d28-dac8-48a6-e554-09f6c8fd712d",
        "colab": {
          "base_uri": "https://localhost:8080/",
          "height": 52
        }
      },
      "source": [
        "# split data for training and testing datasets\n",
        "train, test = user_data_all.randomSplit([0.7, 0.3], seed=1104)\n",
        "print(train.count())\n",
        "print(test.count())"
      ],
      "execution_count": 44,
      "outputs": [
        {
          "output_type": "stream",
          "text": [
            "141\n",
            "84\n"
          ],
          "name": "stdout"
        }
      ]
    },
    {
      "cell_type": "code",
      "metadata": {
        "id": "nyu7f9mrH7z1",
        "colab_type": "code",
        "colab": {
          "base_uri": "https://localhost:8080/",
          "height": 35
        },
        "outputId": "f3eaae37-1712-4750-a78c-227094646b08"
      },
      "source": [
        "train[train.label == 1].count()"
      ],
      "execution_count": 45,
      "outputs": [
        {
          "output_type": "execute_result",
          "data": {
            "text/plain": [
              "31"
            ]
          },
          "metadata": {
            "tags": []
          },
          "execution_count": 45
        }
      ]
    },
    {
      "cell_type": "code",
      "metadata": {
        "id": "azrg76EqUXQE",
        "colab_type": "code",
        "outputId": "6e6f9234-c0a1-449c-fb72-603d0936dc2e",
        "colab": {
          "base_uri": "https://localhost:8080/",
          "height": 35
        }
      },
      "source": [
        "test[test.label == 1].count()"
      ],
      "execution_count": 46,
      "outputs": [
        {
          "output_type": "execute_result",
          "data": {
            "text/plain": [
              "21"
            ]
          },
          "metadata": {
            "tags": []
          },
          "execution_count": 46
        }
      ]
    },
    {
      "cell_type": "markdown",
      "metadata": {
        "id": "xJo8yqT1STZ6",
        "colab_type": "text"
      },
      "source": [
        "#### 5.1 Save data for later load."
      ]
    },
    {
      "cell_type": "code",
      "metadata": {
        "id": "pjn32zP1N3js",
        "colab_type": "code",
        "colab": {}
      },
      "source": [
        "# # save parquet file - save data\n",
        "# train.write.parquet(\"/train_05-30.parquet\")"
      ],
      "execution_count": 0,
      "outputs": []
    },
    {
      "cell_type": "code",
      "metadata": {
        "id": "bqj9Pj7WN3jz",
        "colab_type": "code",
        "colab": {}
      },
      "source": [
        "# # save parquet file - save data\n",
        "# test.write.parquet(\"/test_05-30.parquet\")"
      ],
      "execution_count": 0,
      "outputs": []
    },
    {
      "cell_type": "code",
      "metadata": {
        "id": "jhzqHmfON3j1",
        "colab_type": "code",
        "colab": {}
      },
      "source": [
        "# # using SQLContext to read parquet file\n",
        "# from pyspark.sql import SQLContext\n",
        "# sqlContext = SQLContext(sc)\n",
        "\n",
        "# # to read parquet file\n",
        "# train = sqlContext.read.parquet(\"/train_05-30.parquet\")\n",
        "# test = sqlContext.read.parquet(\"/test_05-30.parquet\")"
      ],
      "execution_count": 0,
      "outputs": []
    },
    {
      "cell_type": "markdown",
      "metadata": {
        "id": "dXyLt7rIN3j5",
        "colab_type": "text"
      },
      "source": [
        "### 6. Run baseline models"
      ]
    },
    {
      "cell_type": "markdown",
      "metadata": {
        "id": "f-ujaqPEN3j5",
        "colab_type": "text"
      },
      "source": [
        "#### Instantiate model objects"
      ]
    },
    {
      "cell_type": "code",
      "metadata": {
        "id": "biv0hTpQN3j6",
        "colab_type": "code",
        "colab": {}
      },
      "source": [
        "# Logistic Regression\n",
        "lr_model = LogisticRegression(featuresCol = \"features\", labelCol = \"label\", maxIter=10)\n",
        "\n",
        "# Gradient Boosting Trees (GBT)\n",
        "gbt_model = GBTClassifier(featuresCol = \"scaledFeatures\", labelCol = \"label\", maxIter=10)\n",
        "\n",
        "# Decision Tree Classifier\n",
        "dt_model = DecisionTreeClassifier(featuresCol = 'scaledFeatures', labelCol = 'label', maxDepth = 3)\n",
        "\n",
        "# RandomForest Classifier\n",
        "rf_model = RandomForestClassifier(featuresCol = 'scaledFeatures', labelCol = 'label', maxDepth = 3)"
      ],
      "execution_count": 0,
      "outputs": []
    },
    {
      "cell_type": "markdown",
      "metadata": {
        "id": "7dNt781xN3j9",
        "colab_type": "text"
      },
      "source": [
        "#### F1 score for each model"
      ]
    },
    {
      "cell_type": "markdown",
      "metadata": {
        "id": "NssMtITlN3j9",
        "colab_type": "text"
      },
      "source": [
        "Run each model and get the f1 score."
      ]
    },
    {
      "cell_type": "code",
      "metadata": {
        "id": "qdL4UuIzN3j9",
        "colab_type": "code",
        "outputId": "ce442334-c2f1-4b8e-9a10-69a44840e710",
        "colab": {
          "base_uri": "https://localhost:8080/",
          "height": 35
        }
      },
      "source": [
        "lr_predict, lr_score = model_testing(lr_model, train, test)\n",
        "print(\"f1 score for Logistic Regression: {}\".format(lr_score))"
      ],
      "execution_count": 58,
      "outputs": [
        {
          "output_type": "stream",
          "text": [
            "f1 score for Logistic Regression: 1.0\n"
          ],
          "name": "stdout"
        }
      ]
    },
    {
      "cell_type": "code",
      "metadata": {
        "id": "Outn2UaJY9xG",
        "colab_type": "code",
        "colab": {
          "base_uri": "https://localhost:8080/",
          "height": 1000
        },
        "outputId": "2859bd63-a18c-446f-ebb6-04fe904a4d35"
      },
      "source": [
        "lr_predict.select(\"label\", \"prediction\").collect()"
      ],
      "execution_count": 59,
      "outputs": [
        {
          "output_type": "execute_result",
          "data": {
            "text/plain": [
              "[Row(label=1, prediction=1.0),\n",
              " Row(label=1, prediction=1.0),\n",
              " Row(label=0, prediction=0.0),\n",
              " Row(label=1, prediction=1.0),\n",
              " Row(label=0, prediction=0.0),\n",
              " Row(label=0, prediction=0.0),\n",
              " Row(label=1, prediction=1.0),\n",
              " Row(label=0, prediction=0.0),\n",
              " Row(label=1, prediction=1.0),\n",
              " Row(label=0, prediction=0.0),\n",
              " Row(label=0, prediction=0.0),\n",
              " Row(label=0, prediction=0.0),\n",
              " Row(label=0, prediction=0.0),\n",
              " Row(label=0, prediction=0.0),\n",
              " Row(label=0, prediction=0.0),\n",
              " Row(label=0, prediction=0.0),\n",
              " Row(label=0, prediction=0.0),\n",
              " Row(label=1, prediction=1.0),\n",
              " Row(label=0, prediction=0.0),\n",
              " Row(label=0, prediction=0.0),\n",
              " Row(label=0, prediction=0.0),\n",
              " Row(label=0, prediction=0.0),\n",
              " Row(label=1, prediction=1.0),\n",
              " Row(label=0, prediction=0.0),\n",
              " Row(label=0, prediction=0.0),\n",
              " Row(label=0, prediction=0.0),\n",
              " Row(label=1, prediction=1.0),\n",
              " Row(label=0, prediction=0.0),\n",
              " Row(label=0, prediction=0.0),\n",
              " Row(label=1, prediction=1.0),\n",
              " Row(label=0, prediction=0.0),\n",
              " Row(label=0, prediction=0.0),\n",
              " Row(label=0, prediction=0.0),\n",
              " Row(label=0, prediction=0.0),\n",
              " Row(label=0, prediction=0.0),\n",
              " Row(label=0, prediction=0.0),\n",
              " Row(label=0, prediction=0.0),\n",
              " Row(label=0, prediction=0.0),\n",
              " Row(label=0, prediction=0.0),\n",
              " Row(label=0, prediction=0.0),\n",
              " Row(label=1, prediction=1.0),\n",
              " Row(label=0, prediction=0.0),\n",
              " Row(label=0, prediction=0.0),\n",
              " Row(label=0, prediction=0.0),\n",
              " Row(label=1, prediction=1.0),\n",
              " Row(label=0, prediction=0.0),\n",
              " Row(label=0, prediction=0.0),\n",
              " Row(label=0, prediction=0.0),\n",
              " Row(label=0, prediction=0.0),\n",
              " Row(label=0, prediction=0.0),\n",
              " Row(label=0, prediction=0.0),\n",
              " Row(label=1, prediction=1.0),\n",
              " Row(label=1, prediction=1.0),\n",
              " Row(label=1, prediction=1.0),\n",
              " Row(label=0, prediction=0.0),\n",
              " Row(label=0, prediction=0.0),\n",
              " Row(label=1, prediction=1.0),\n",
              " Row(label=0, prediction=0.0),\n",
              " Row(label=0, prediction=0.0),\n",
              " Row(label=0, prediction=0.0),\n",
              " Row(label=1, prediction=1.0),\n",
              " Row(label=1, prediction=1.0),\n",
              " Row(label=0, prediction=0.0),\n",
              " Row(label=0, prediction=0.0),\n",
              " Row(label=0, prediction=0.0),\n",
              " Row(label=1, prediction=1.0),\n",
              " Row(label=1, prediction=1.0),\n",
              " Row(label=0, prediction=0.0),\n",
              " Row(label=0, prediction=0.0),\n",
              " Row(label=0, prediction=0.0),\n",
              " Row(label=0, prediction=0.0),\n",
              " Row(label=1, prediction=1.0),\n",
              " Row(label=0, prediction=0.0),\n",
              " Row(label=0, prediction=0.0),\n",
              " Row(label=0, prediction=0.0),\n",
              " Row(label=0, prediction=0.0),\n",
              " Row(label=0, prediction=0.0),\n",
              " Row(label=0, prediction=0.0),\n",
              " Row(label=0, prediction=0.0),\n",
              " Row(label=0, prediction=0.0),\n",
              " Row(label=0, prediction=0.0),\n",
              " Row(label=0, prediction=0.0),\n",
              " Row(label=0, prediction=0.0),\n",
              " Row(label=1, prediction=1.0)]"
            ]
          },
          "metadata": {
            "tags": []
          },
          "execution_count": 59
        }
      ]
    },
    {
      "cell_type": "code",
      "metadata": {
        "id": "uTMN0Y31N3j_",
        "colab_type": "code",
        "outputId": "8bb44553-ed25-452b-fbaa-ed49dbfe5415",
        "colab": {
          "base_uri": "https://localhost:8080/",
          "height": 35
        }
      },
      "source": [
        "gbt_predict, gbt_score = model_testing(gbt_model, train, test)\n",
        "print(\"f1 score for GBT Classifier: {}\".format(gbt_score))"
      ],
      "execution_count": 50,
      "outputs": [
        {
          "output_type": "stream",
          "text": [
            "f1 score for GBT Classifier: 1.0\n"
          ],
          "name": "stdout"
        }
      ]
    },
    {
      "cell_type": "code",
      "metadata": {
        "id": "96a_KyMZZt8j",
        "colab_type": "code",
        "colab": {
          "base_uri": "https://localhost:8080/",
          "height": 1000
        },
        "outputId": "d092b3f8-b5d3-455f-970d-be1e8b999bbe"
      },
      "source": [
        "gbt_predict.select(\"label\", \"prediction\").collect()"
      ],
      "execution_count": 51,
      "outputs": [
        {
          "output_type": "execute_result",
          "data": {
            "text/plain": [
              "[Row(label=1, prediction=1.0),\n",
              " Row(label=1, prediction=1.0),\n",
              " Row(label=0, prediction=0.0),\n",
              " Row(label=1, prediction=1.0),\n",
              " Row(label=0, prediction=0.0),\n",
              " Row(label=0, prediction=0.0),\n",
              " Row(label=1, prediction=1.0),\n",
              " Row(label=0, prediction=0.0),\n",
              " Row(label=1, prediction=1.0),\n",
              " Row(label=0, prediction=0.0),\n",
              " Row(label=0, prediction=0.0),\n",
              " Row(label=0, prediction=0.0),\n",
              " Row(label=0, prediction=0.0),\n",
              " Row(label=0, prediction=0.0),\n",
              " Row(label=0, prediction=0.0),\n",
              " Row(label=0, prediction=0.0),\n",
              " Row(label=0, prediction=0.0),\n",
              " Row(label=1, prediction=1.0),\n",
              " Row(label=0, prediction=0.0),\n",
              " Row(label=0, prediction=0.0),\n",
              " Row(label=0, prediction=0.0),\n",
              " Row(label=0, prediction=0.0),\n",
              " Row(label=1, prediction=1.0),\n",
              " Row(label=0, prediction=0.0),\n",
              " Row(label=0, prediction=0.0),\n",
              " Row(label=0, prediction=0.0),\n",
              " Row(label=1, prediction=1.0),\n",
              " Row(label=0, prediction=0.0),\n",
              " Row(label=0, prediction=0.0),\n",
              " Row(label=1, prediction=1.0),\n",
              " Row(label=0, prediction=0.0),\n",
              " Row(label=0, prediction=0.0),\n",
              " Row(label=0, prediction=0.0),\n",
              " Row(label=0, prediction=0.0),\n",
              " Row(label=0, prediction=0.0),\n",
              " Row(label=0, prediction=0.0),\n",
              " Row(label=0, prediction=0.0),\n",
              " Row(label=0, prediction=0.0),\n",
              " Row(label=0, prediction=0.0),\n",
              " Row(label=0, prediction=0.0),\n",
              " Row(label=1, prediction=1.0),\n",
              " Row(label=0, prediction=0.0),\n",
              " Row(label=0, prediction=0.0),\n",
              " Row(label=0, prediction=0.0),\n",
              " Row(label=1, prediction=1.0),\n",
              " Row(label=0, prediction=0.0),\n",
              " Row(label=0, prediction=0.0),\n",
              " Row(label=0, prediction=0.0),\n",
              " Row(label=0, prediction=0.0),\n",
              " Row(label=0, prediction=0.0),\n",
              " Row(label=0, prediction=0.0),\n",
              " Row(label=1, prediction=1.0),\n",
              " Row(label=1, prediction=1.0),\n",
              " Row(label=1, prediction=1.0),\n",
              " Row(label=0, prediction=0.0),\n",
              " Row(label=0, prediction=0.0),\n",
              " Row(label=1, prediction=1.0),\n",
              " Row(label=0, prediction=0.0),\n",
              " Row(label=0, prediction=0.0),\n",
              " Row(label=0, prediction=0.0),\n",
              " Row(label=1, prediction=1.0),\n",
              " Row(label=1, prediction=1.0),\n",
              " Row(label=0, prediction=0.0),\n",
              " Row(label=0, prediction=0.0),\n",
              " Row(label=0, prediction=0.0),\n",
              " Row(label=1, prediction=1.0),\n",
              " Row(label=1, prediction=1.0),\n",
              " Row(label=0, prediction=0.0),\n",
              " Row(label=0, prediction=0.0),\n",
              " Row(label=0, prediction=0.0),\n",
              " Row(label=0, prediction=0.0),\n",
              " Row(label=1, prediction=1.0),\n",
              " Row(label=0, prediction=0.0),\n",
              " Row(label=0, prediction=0.0),\n",
              " Row(label=0, prediction=0.0),\n",
              " Row(label=0, prediction=0.0),\n",
              " Row(label=0, prediction=0.0),\n",
              " Row(label=0, prediction=0.0),\n",
              " Row(label=0, prediction=0.0),\n",
              " Row(label=0, prediction=0.0),\n",
              " Row(label=0, prediction=0.0),\n",
              " Row(label=0, prediction=0.0),\n",
              " Row(label=0, prediction=0.0),\n",
              " Row(label=1, prediction=1.0)]"
            ]
          },
          "metadata": {
            "tags": []
          },
          "execution_count": 51
        }
      ]
    },
    {
      "cell_type": "code",
      "metadata": {
        "id": "frAtAQdjN3kB",
        "colab_type": "code",
        "outputId": "515a7578-19f1-4b1a-d5d8-37d8516c89da",
        "colab": {
          "base_uri": "https://localhost:8080/",
          "height": 35
        }
      },
      "source": [
        "dt_predict, dt_score = model_testing(dt_model, train, test)\n",
        "print(\"f1 score for Decistion Tree Classifier: {}\".format(dt_score))"
      ],
      "execution_count": 52,
      "outputs": [
        {
          "output_type": "stream",
          "text": [
            "f1 score for Decistion Tree Classifier: 1.0\n"
          ],
          "name": "stdout"
        }
      ]
    },
    {
      "cell_type": "code",
      "metadata": {
        "id": "WfrZGJ0vattd",
        "colab_type": "code",
        "colab": {
          "base_uri": "https://localhost:8080/",
          "height": 1000
        },
        "outputId": "ca484e0f-799b-44b8-fe93-9a6ec8adf4ab"
      },
      "source": [
        "dt_predict.select(\"label\", \"prediction\").collect()"
      ],
      "execution_count": 53,
      "outputs": [
        {
          "output_type": "execute_result",
          "data": {
            "text/plain": [
              "[Row(label=1, prediction=1.0),\n",
              " Row(label=1, prediction=1.0),\n",
              " Row(label=0, prediction=0.0),\n",
              " Row(label=1, prediction=1.0),\n",
              " Row(label=0, prediction=0.0),\n",
              " Row(label=0, prediction=0.0),\n",
              " Row(label=1, prediction=1.0),\n",
              " Row(label=0, prediction=0.0),\n",
              " Row(label=1, prediction=1.0),\n",
              " Row(label=0, prediction=0.0),\n",
              " Row(label=0, prediction=0.0),\n",
              " Row(label=0, prediction=0.0),\n",
              " Row(label=0, prediction=0.0),\n",
              " Row(label=0, prediction=0.0),\n",
              " Row(label=0, prediction=0.0),\n",
              " Row(label=0, prediction=0.0),\n",
              " Row(label=0, prediction=0.0),\n",
              " Row(label=1, prediction=1.0),\n",
              " Row(label=0, prediction=0.0),\n",
              " Row(label=0, prediction=0.0),\n",
              " Row(label=0, prediction=0.0),\n",
              " Row(label=0, prediction=0.0),\n",
              " Row(label=1, prediction=1.0),\n",
              " Row(label=0, prediction=0.0),\n",
              " Row(label=0, prediction=0.0),\n",
              " Row(label=0, prediction=0.0),\n",
              " Row(label=1, prediction=1.0),\n",
              " Row(label=0, prediction=0.0),\n",
              " Row(label=0, prediction=0.0),\n",
              " Row(label=1, prediction=1.0),\n",
              " Row(label=0, prediction=0.0),\n",
              " Row(label=0, prediction=0.0),\n",
              " Row(label=0, prediction=0.0),\n",
              " Row(label=0, prediction=0.0),\n",
              " Row(label=0, prediction=0.0),\n",
              " Row(label=0, prediction=0.0),\n",
              " Row(label=0, prediction=0.0),\n",
              " Row(label=0, prediction=0.0),\n",
              " Row(label=0, prediction=0.0),\n",
              " Row(label=0, prediction=0.0),\n",
              " Row(label=1, prediction=1.0),\n",
              " Row(label=0, prediction=0.0),\n",
              " Row(label=0, prediction=0.0),\n",
              " Row(label=0, prediction=0.0),\n",
              " Row(label=1, prediction=1.0),\n",
              " Row(label=0, prediction=0.0),\n",
              " Row(label=0, prediction=0.0),\n",
              " Row(label=0, prediction=0.0),\n",
              " Row(label=0, prediction=0.0),\n",
              " Row(label=0, prediction=0.0),\n",
              " Row(label=0, prediction=0.0),\n",
              " Row(label=1, prediction=1.0),\n",
              " Row(label=1, prediction=1.0),\n",
              " Row(label=1, prediction=1.0),\n",
              " Row(label=0, prediction=0.0),\n",
              " Row(label=0, prediction=0.0),\n",
              " Row(label=1, prediction=1.0),\n",
              " Row(label=0, prediction=0.0),\n",
              " Row(label=0, prediction=0.0),\n",
              " Row(label=0, prediction=0.0),\n",
              " Row(label=1, prediction=1.0),\n",
              " Row(label=1, prediction=1.0),\n",
              " Row(label=0, prediction=0.0),\n",
              " Row(label=0, prediction=0.0),\n",
              " Row(label=0, prediction=0.0),\n",
              " Row(label=1, prediction=1.0),\n",
              " Row(label=1, prediction=1.0),\n",
              " Row(label=0, prediction=0.0),\n",
              " Row(label=0, prediction=0.0),\n",
              " Row(label=0, prediction=0.0),\n",
              " Row(label=0, prediction=0.0),\n",
              " Row(label=1, prediction=1.0),\n",
              " Row(label=0, prediction=0.0),\n",
              " Row(label=0, prediction=0.0),\n",
              " Row(label=0, prediction=0.0),\n",
              " Row(label=0, prediction=0.0),\n",
              " Row(label=0, prediction=0.0),\n",
              " Row(label=0, prediction=0.0),\n",
              " Row(label=0, prediction=0.0),\n",
              " Row(label=0, prediction=0.0),\n",
              " Row(label=0, prediction=0.0),\n",
              " Row(label=0, prediction=0.0),\n",
              " Row(label=0, prediction=0.0),\n",
              " Row(label=1, prediction=1.0)]"
            ]
          },
          "metadata": {
            "tags": []
          },
          "execution_count": 53
        }
      ]
    },
    {
      "cell_type": "code",
      "metadata": {
        "id": "JzmGjfiBN3kD",
        "colab_type": "code",
        "outputId": "9282c88d-9e53-4f9f-f6bd-13c0b23a34f5",
        "colab": {
          "base_uri": "https://localhost:8080/",
          "height": 35
        }
      },
      "source": [
        "rf_predict, rf_score = model_testing(rf_model, train, test)\n",
        "print(\"f1 score for RandomForest Classifier: {}\".format(rf_score))"
      ],
      "execution_count": 54,
      "outputs": [
        {
          "output_type": "stream",
          "text": [
            "f1 score for RandomForest Classifier: 1.0\n"
          ],
          "name": "stdout"
        }
      ]
    },
    {
      "cell_type": "code",
      "metadata": {
        "id": "y9arG7OgbBhm",
        "colab_type": "code",
        "colab": {
          "base_uri": "https://localhost:8080/",
          "height": 1000
        },
        "outputId": "9fc5e0d9-c833-4ff3-ae40-b5a68bfd7cc8"
      },
      "source": [
        "rf_predict.select(\"label\", \"prediction\").collect()"
      ],
      "execution_count": 55,
      "outputs": [
        {
          "output_type": "execute_result",
          "data": {
            "text/plain": [
              "[Row(label=1, prediction=1.0),\n",
              " Row(label=1, prediction=1.0),\n",
              " Row(label=0, prediction=0.0),\n",
              " Row(label=1, prediction=1.0),\n",
              " Row(label=0, prediction=0.0),\n",
              " Row(label=0, prediction=0.0),\n",
              " Row(label=1, prediction=1.0),\n",
              " Row(label=0, prediction=0.0),\n",
              " Row(label=1, prediction=1.0),\n",
              " Row(label=0, prediction=0.0),\n",
              " Row(label=0, prediction=0.0),\n",
              " Row(label=0, prediction=0.0),\n",
              " Row(label=0, prediction=0.0),\n",
              " Row(label=0, prediction=0.0),\n",
              " Row(label=0, prediction=0.0),\n",
              " Row(label=0, prediction=0.0),\n",
              " Row(label=0, prediction=0.0),\n",
              " Row(label=1, prediction=1.0),\n",
              " Row(label=0, prediction=0.0),\n",
              " Row(label=0, prediction=0.0),\n",
              " Row(label=0, prediction=0.0),\n",
              " Row(label=0, prediction=0.0),\n",
              " Row(label=1, prediction=1.0),\n",
              " Row(label=0, prediction=0.0),\n",
              " Row(label=0, prediction=0.0),\n",
              " Row(label=0, prediction=0.0),\n",
              " Row(label=1, prediction=1.0),\n",
              " Row(label=0, prediction=0.0),\n",
              " Row(label=0, prediction=0.0),\n",
              " Row(label=1, prediction=1.0),\n",
              " Row(label=0, prediction=0.0),\n",
              " Row(label=0, prediction=0.0),\n",
              " Row(label=0, prediction=0.0),\n",
              " Row(label=0, prediction=0.0),\n",
              " Row(label=0, prediction=0.0),\n",
              " Row(label=0, prediction=0.0),\n",
              " Row(label=0, prediction=0.0),\n",
              " Row(label=0, prediction=0.0),\n",
              " Row(label=0, prediction=0.0),\n",
              " Row(label=0, prediction=0.0),\n",
              " Row(label=1, prediction=1.0),\n",
              " Row(label=0, prediction=0.0),\n",
              " Row(label=0, prediction=0.0),\n",
              " Row(label=0, prediction=0.0),\n",
              " Row(label=1, prediction=1.0),\n",
              " Row(label=0, prediction=0.0),\n",
              " Row(label=0, prediction=0.0),\n",
              " Row(label=0, prediction=0.0),\n",
              " Row(label=0, prediction=0.0),\n",
              " Row(label=0, prediction=0.0),\n",
              " Row(label=0, prediction=0.0),\n",
              " Row(label=1, prediction=1.0),\n",
              " Row(label=1, prediction=1.0),\n",
              " Row(label=1, prediction=1.0),\n",
              " Row(label=0, prediction=0.0),\n",
              " Row(label=0, prediction=0.0),\n",
              " Row(label=1, prediction=1.0),\n",
              " Row(label=0, prediction=0.0),\n",
              " Row(label=0, prediction=0.0),\n",
              " Row(label=0, prediction=0.0),\n",
              " Row(label=1, prediction=1.0),\n",
              " Row(label=1, prediction=1.0),\n",
              " Row(label=0, prediction=0.0),\n",
              " Row(label=0, prediction=0.0),\n",
              " Row(label=0, prediction=0.0),\n",
              " Row(label=1, prediction=1.0),\n",
              " Row(label=1, prediction=1.0),\n",
              " Row(label=0, prediction=0.0),\n",
              " Row(label=0, prediction=0.0),\n",
              " Row(label=0, prediction=0.0),\n",
              " Row(label=0, prediction=0.0),\n",
              " Row(label=1, prediction=1.0),\n",
              " Row(label=0, prediction=0.0),\n",
              " Row(label=0, prediction=0.0),\n",
              " Row(label=0, prediction=0.0),\n",
              " Row(label=0, prediction=0.0),\n",
              " Row(label=0, prediction=0.0),\n",
              " Row(label=0, prediction=0.0),\n",
              " Row(label=0, prediction=0.0),\n",
              " Row(label=0, prediction=0.0),\n",
              " Row(label=0, prediction=0.0),\n",
              " Row(label=0, prediction=0.0),\n",
              " Row(label=0, prediction=0.0),\n",
              " Row(label=1, prediction=1.0)]"
            ]
          },
          "metadata": {
            "tags": []
          },
          "execution_count": 55
        }
      ]
    },
    {
      "cell_type": "markdown",
      "metadata": {
        "id": "3LB_jmOxN3kE",
        "colab_type": "text"
      },
      "source": [
        "### 7. Parameter tuning"
      ]
    },
    {
      "cell_type": "code",
      "metadata": {
        "id": "21et-WLeN3kF",
        "colab_type": "code",
        "colab": {}
      },
      "source": [
        "gbt = GBTClassifier(featuresCol = \"features\", labelCol = \"label\")\n",
        "paramGrid = (ParamGridBuilder()\\\n",
        "             .addGrid(gbt.maxDepth, [2, 4])\\\n",
        "             .addGrid(gbt.maxBins, [20, 30])\\\n",
        "             .addGrid(gbt.maxIter, [10, 15])\\\n",
        "             .build())"
      ],
      "execution_count": 0,
      "outputs": []
    },
    {
      "cell_type": "code",
      "metadata": {
        "id": "1ZHVfPcpN3kI",
        "colab_type": "code",
        "colab": {}
      },
      "source": [
        "score, predict, bestModel = model_tuning(train, test, gbt, paramGrid, 5)"
      ],
      "execution_count": 0,
      "outputs": []
    },
    {
      "cell_type": "code",
      "metadata": {
        "id": "Z4P0nB3RN3kK",
        "colab_type": "code",
        "outputId": "249b170c-917b-47cf-e08d-42f9824634fd",
        "colab": {
          "base_uri": "https://localhost:8080/",
          "height": 87
        }
      },
      "source": [
        "print(\"f1 score: {}\".format(score))\n",
        "print(\"Best parameter for depth: {}\".format(bestModel._java_obj.getMaxDepth()))\n",
        "print(\"Best parameter for bins: {}\".format(bestModel._java_obj.getMaxBins()))\n",
        "print(\"Best parameter for iterations: {}\".format(bestModel._java_obj.getMaxIter()))"
      ],
      "execution_count": 113,
      "outputs": [
        {
          "output_type": "stream",
          "text": [
            "f1 score: 1.0\n",
            "Best parameter for depth: 2\n",
            "Best parameter for bins: 20\n",
            "Best parameter for iterations: 10\n"
          ],
          "name": "stdout"
        }
      ]
    },
    {
      "cell_type": "code",
      "metadata": {
        "id": "HSTVC357N3kQ",
        "colab_type": "code",
        "outputId": "a5c10489-0cc6-4073-e5ab-ac570af2a181",
        "colab": {
          "base_uri": "https://localhost:8080/",
          "height": 468
        }
      },
      "source": [
        "predict.select(\"features\", \"label\", \"prediction\").show()"
      ],
      "execution_count": 114,
      "outputs": [
        {
          "output_type": "stream",
          "text": [
            "+--------------------+-----+----------+\n",
            "|            features|label|prediction|\n",
            "+--------------------+-----+----------+\n",
            "|(91,[0,2,12,64,68...|    0|       0.0|\n",
            "|(91,[0,2,50,62,68...|    0|       0.0|\n",
            "|(91,[0,2,6,62,68,...|    1|       1.0|\n",
            "|(91,[1,2,16,63,68...|    0|       0.0|\n",
            "|(91,[0,3,5,63,68,...|    1|       1.0|\n",
            "|(91,[0,3,28,62,68...|    0|       0.0|\n",
            "|(91,[1,2,39,62,68...|    0|       0.0|\n",
            "|(91,[0,2,4,64,68,...|    0|       0.0|\n",
            "|(91,[0,3,53,62,68...|    0|       0.0|\n",
            "|(91,[1,3,13,62,68...|    0|       0.0|\n",
            "|(91,[0,2,12,63,68...|    0|       0.0|\n",
            "|(91,[1,2,56,64,68...|    0|       0.0|\n",
            "|(91,[0,2,11,65,68...|    0|       0.0|\n",
            "|(91,[1,2,8,62,68,...|    0|       0.0|\n",
            "|(91,[1,3,6,63,68,...|    1|       1.0|\n",
            "|(91,[0,3,12,63,68...|    0|       0.0|\n",
            "|(91,[1,3,24,62,68...|    0|       0.0|\n",
            "|(91,[1,2,43,63,68...|    0|       0.0|\n",
            "|(91,[0,2,9,65,68,...|    1|       1.0|\n",
            "|(91,[0,3,9,62,68,...|    0|       0.0|\n",
            "+--------------------+-----+----------+\n",
            "only showing top 20 rows\n",
            "\n"
          ],
          "name": "stdout"
        }
      ]
    },
    {
      "cell_type": "code",
      "metadata": {
        "id": "PJL0Hx3_N3kT",
        "colab_type": "code",
        "colab": {}
      },
      "source": [
        ""
      ],
      "execution_count": 0,
      "outputs": []
    }
  ]
}